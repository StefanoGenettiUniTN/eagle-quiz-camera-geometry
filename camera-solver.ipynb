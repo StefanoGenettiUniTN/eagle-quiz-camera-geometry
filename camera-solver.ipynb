{
 "cells": [
  {
   "cell_type": "markdown",
   "metadata": {},
   "source": [
    "# Camera geometry\n",
    "The purpose of this notebook is to provide a tool to solve the most common geometric transformation which are investigated in the context of the popular pinhole camera model. In more depth, the following code cells allows to convert the coordinates of a point:\n",
    "- from image reference system (2D) to camera reference system (3D)\n",
    "- from camera reference system (3D) to image reference system (2D)\n",
    "- from camera reference system (3D) to real world reference system (3D)\n",
    "- from real world reference system (3D) to camera reference system (3D)"
   ]
  },
  {
   "cell_type": "markdown",
   "metadata": {},
   "source": [
    "**Note:** in this paper we assume that the 2D image place is a rectangle, i.e. the angle between the $X$ and $Y$ axis is 90 degrees. If this not the case we need to take into account the *skew* parameter. [This website](https://towardsdatascience.com/what-are-intrinsic-and-extrinsic-camera-parameters-in-computer-vision-7071b72fb8ec) is a super clear and useful reference. In summary the intrinsic camera matrix becomes:\n",
    "<br><br>\n",
    "$\\begin{bmatrix}\n",
    "f_x & s & c_x \\\\\n",
    "0 & f_y & c_y \\\\\n",
    "0 & 0 & 1 \\\\\n",
    "\\end{bmatrix}$\n",
    "<br><br>\n",
    "Such that $s$ is the skew coefficient which can be computed as:\n",
    "<br><br>\n",
    "$s = -f_x \\cot{(\\theta)}$ where $\\theta$ is the angle between the $x$ and $y$ axis."
   ]
  },
  {
   "cell_type": "code",
   "execution_count": 28,
   "metadata": {},
   "outputs": [],
   "source": [
    "import numpy as np\n",
    "import math"
   ]
  },
  {
   "cell_type": "markdown",
   "metadata": {},
   "source": [
    "## Taxonomy\n",
    "- `intrinsic_camera_matrix` is the intrinsic camera matrix defined as follows:\n",
    "<br><br>\n",
    "$M_C^I = \\begin{bmatrix}\n",
    "f_x & 0 & c_x \\\\\n",
    "0 & f_y & c_y \\\\\n",
    "0 & 0 & 1 \\\\\n",
    "\\end{bmatrix}$\n",
    "\n",
    "- `extrinsic_camera_matrix` is the extrinsic camera matrix defined as follows:\n",
    "<br><br>\n",
    "$M_W^C = \\begin{bmatrix}\n",
    "r_{00} & r_{01} & r_{02} & t_x \\\\\n",
    "r_{10} & r_{11} & r_{12} & t_y \\\\\n",
    "r_{20} & r_{21} & r_{22} & t_z \\\\\n",
    "\\end{bmatrix}$\n",
    "\n",
    "- `scaling_factor` $s$ is the scaling factor (by default equal to 1).\n",
    "\n",
    "- `image_coordinates` is a $2 \\times 1$ vector which represent the coordinates of the point of interest in the image reference system (i.e. pixel coordinates).\n",
    "<br><br>\n",
    "$P_I = \\begin{bmatrix}\n",
    "u \\\\\n",
    "v \\\\\n",
    "\\end{bmatrix}$\n",
    "\n",
    "- `image_coordinates_h` is a $3 \\times 1$ vector which represent the homogeneous coordinates of the point of interest in the image reference system (i.e. pixel coordinates).\n",
    "<br><br>\n",
    "$P_I = \\begin{bmatrix}\n",
    "su \\\\\n",
    "sv \\\\\n",
    "s\n",
    "\\end{bmatrix}$\n",
    "\n",
    "- `camera_coordinates` is a $3 \\times 1$ vector which represent the coordinates of the point of interest in the camera reference system.\n",
    "<br><br>\n",
    "$P_C = \\begin{bmatrix}\n",
    "x \\\\\n",
    "y \\\\\n",
    "z\n",
    "\\end{bmatrix}$\n",
    "\n",
    "- `camera_coordinates_h` is a $4 \\times 1$ vector which represent the homogeneous coordinates of the point of interest in the camera reference system.\n",
    "<br><br>\n",
    "$P_C = \\begin{bmatrix}\n",
    "x_C \\\\\n",
    "y_C \\\\\n",
    "z_C \\\\\n",
    "1\n",
    "\\end{bmatrix}$\n",
    "\n",
    "- `world_coordinates` is a $3 \\times 1$ vector which represent the coordinates of the point of interest in the real world reference system.\n",
    "<br><br>\n",
    "$P_W = \\begin{bmatrix}\n",
    "x_W \\\\\n",
    "y_W \\\\\n",
    "z_W\n",
    "\\end{bmatrix}$\n",
    "\n",
    "- `world_coordinates_h` is a $4 \\times 1$ vector which represent the homogeneous coordinates of the point of interest in the real world reference system.\n",
    "<br><br>\n",
    "$P_W = \\begin{bmatrix}\n",
    "x_W \\\\\n",
    "y_W \\\\\n",
    "z_W \\\\\n",
    "1\n",
    "\\end{bmatrix}$"
   ]
  },
  {
   "cell_type": "markdown",
   "metadata": {},
   "source": [
    "## Utils\n",
    "In this section we report some functions which might be useful as reference. For example, we provide the Python code to compute the inverse of a matrix."
   ]
  },
  {
   "cell_type": "markdown",
   "metadata": {},
   "source": [
    "### Matrix inverse"
   ]
  },
  {
   "cell_type": "code",
   "execution_count": 29,
   "metadata": {},
   "outputs": [
    {
     "name": "stdout",
     "output_type": "stream",
     "text": [
      "[[ 3. -1.]\n",
      " [-5.  2.]]\n"
     ]
    }
   ],
   "source": [
    "def matrix_inverse(input_matrix):\n",
    "    return np.linalg.inv(input_matrix)\n",
    "\n",
    "input_matrix = np.array([[2,1],[5,3]])\n",
    "print(matrix_inverse(input_matrix))"
   ]
  },
  {
   "cell_type": "markdown",
   "metadata": {},
   "source": [
    "### Matrix product"
   ]
  },
  {
   "cell_type": "code",
   "execution_count": 30,
   "metadata": {},
   "outputs": [
    {
     "name": "stdout",
     "output_type": "stream",
     "text": [
      "[[1 0]\n",
      " [0 1]]\n"
     ]
    }
   ],
   "source": [
    "def matrix_product(matrix_a, matrix_b):\n",
    "    return matrix_a.dot(matrix_b)\n",
    "\n",
    "matrix_a = np.array([[2,1],[5,3]])\n",
    "matrix_b = np.array([[3,-1],[-5,2]])\n",
    "print(matrix_product(matrix_a, matrix_b))"
   ]
  },
  {
   "cell_type": "markdown",
   "metadata": {},
   "source": [
    "## Extrinsic camera matrix $M_W^C$\n",
    "\n",
    "$M_W^C = \\begin{bmatrix}\n",
    "r_{00} & r_{01} & r_{02} & t_x \\\\\n",
    "r_{10} & r_{11} & r_{12} & t_y \\\\\n",
    "r_{20} & r_{21} & r_{22} & t_z \\\\\n",
    "\\end{bmatrix}$"
   ]
  },
  {
   "cell_type": "markdown",
   "metadata": {},
   "source": [
    "### Rotation matrix\n",
    "\n",
    "$R_{xyz} = R_x \\times R_y \\times R_z$"
   ]
  },
  {
   "cell_type": "markdown",
   "metadata": {},
   "source": [
    "#### Roll matrix $R_x$\n",
    "\n",
    "$R_x = \\begin{bmatrix}\n",
    "1 & 0 & 0 \\\\\n",
    "0 & \\cos{(\\theta)} & -\\sin{(\\theta)} \\\\\n",
    "0 & \\sin{(\\theta)} & \\cos{(\\theta)} \\\\\n",
    "\\end{bmatrix}$"
   ]
  },
  {
   "cell_type": "code",
   "execution_count": 31,
   "metadata": {},
   "outputs": [
    {
     "name": "stdout",
     "output_type": "stream",
     "text": [
      "[[ 1.          0.          0.        ]\n",
      " [ 0.         -0.17364818 -0.98480775]\n",
      " [ 0.          0.98480775 -0.17364818]]\n"
     ]
    }
   ],
   "source": [
    "def get_roll_matrix(roll_angle):\n",
    "    roll_matrix = np.array([[1,0,0],\n",
    "                            [0, np.cos(roll_angle), -np.sin(roll_angle)],\n",
    "                            [0, np.sin(roll_angle), np.cos(roll_angle)]])\n",
    "    return roll_matrix\n",
    "\n",
    "roll_angle = np.radians(100)\n",
    "roll_matrix = get_roll_matrix(roll_angle)\n",
    "print(roll_matrix)"
   ]
  },
  {
   "cell_type": "markdown",
   "metadata": {},
   "source": [
    "#### Pitch matrix $R_y$\n",
    "\n",
    "$R_y = \\begin{bmatrix}\n",
    "\\cos{(\\theta)} & 0 & \\sin{(\\theta)} \\\\\n",
    "0 & 1 & 0 \\\\\n",
    "-\\sin{(\\theta)} & 0 & \\cos{(\\theta)} \\\\\n",
    "\\end{bmatrix}$"
   ]
  },
  {
   "cell_type": "code",
   "execution_count": 32,
   "metadata": {},
   "outputs": [
    {
     "name": "stdout",
     "output_type": "stream",
     "text": [
      "[[ 1.  0.  0.]\n",
      " [ 0.  1.  0.]\n",
      " [-0.  0.  1.]]\n"
     ]
    }
   ],
   "source": [
    "def get_pitch_matrix(pitch_angle):\n",
    "    pitch_matrix = np.array([[np.cos(pitch_angle), 0, np.sin(pitch_angle)],\n",
    "                            [0, 1, 0],\n",
    "                            [-np.sin(pitch_angle), 0, np.cos(pitch_angle)]])\n",
    "    return pitch_matrix\n",
    "\n",
    "pitch_angle = np.radians(0)\n",
    "pitch_matrix = get_pitch_matrix(pitch_angle)\n",
    "print(pitch_matrix)"
   ]
  },
  {
   "cell_type": "markdown",
   "metadata": {},
   "source": [
    "#### Yaw matrix $R_z$\n",
    "\n",
    "$R_z = \\begin{bmatrix}\n",
    "\\cos{(\\theta)} & -\\sin{(\\theta)} & 0 \\\\\n",
    "\\sin{(\\theta)} & \\cos{(\\theta)} & 0 \\\\\n",
    "0 & 0 & 1 \\\\\n",
    "\\end{bmatrix}$"
   ]
  },
  {
   "cell_type": "code",
   "execution_count": 33,
   "metadata": {},
   "outputs": [
    {
     "name": "stdout",
     "output_type": "stream",
     "text": [
      "[[ 6.123234e-17 -1.000000e+00  0.000000e+00]\n",
      " [ 1.000000e+00  6.123234e-17  0.000000e+00]\n",
      " [ 0.000000e+00  0.000000e+00  1.000000e+00]]\n"
     ]
    }
   ],
   "source": [
    "def get_yaw_matrix(yaw_angle):\n",
    "    yaw_matrix = np.array([ [np.cos(yaw_angle), -np.sin(yaw_angle), 0],\n",
    "                            [np.sin(yaw_angle), np.cos(yaw_angle), 0],\n",
    "                            [0,0,1]])\n",
    "    return yaw_matrix\n",
    "\n",
    "yaw_angle = np.radians(90)\n",
    "yaw_matrix = get_yaw_matrix(yaw_angle)\n",
    "print(yaw_matrix)"
   ]
  },
  {
   "cell_type": "code",
   "execution_count": 34,
   "metadata": {},
   "outputs": [
    {
     "name": "stdout",
     "output_type": "stream",
     "text": [
      "[[ 6.12323400e-17  1.73648178e-01  9.84807753e-01]\n",
      " [ 1.00000000e+00 -1.06328842e-17 -6.03020831e-17]\n",
      " [ 0.00000000e+00  9.84807753e-01 -1.73648178e-01]]\n"
     ]
    }
   ],
   "source": [
    "rotation_matrix = yaw_matrix.dot(pitch_matrix).dot(roll_matrix)\n",
    "print(rotation_matrix)"
   ]
  },
  {
   "cell_type": "code",
   "execution_count": 35,
   "metadata": {},
   "outputs": [],
   "source": [
    "# extrinsic camera matrix parameteres\n",
    "r11 = rotation_matrix[0][0]\n",
    "r12 = rotation_matrix[0][1]\n",
    "r13 = rotation_matrix[0][2]\n",
    "r21 = rotation_matrix[1][0]\n",
    "r22 = rotation_matrix[1][1]\n",
    "r23 = rotation_matrix[1][2]\n",
    "r31 = rotation_matrix[2][0]\n",
    "r32 = rotation_matrix[2][1]\n",
    "r33 = rotation_matrix[2][2]\n",
    "\n",
    "tx = 0.5\n",
    "ty = 0.16\n",
    "tz = 1.14\n",
    "\n",
    "extrinsic_matrix = np.array([[r11, r12, r13, tx],\n",
    "                             [r21, r22, r23, ty],\n",
    "                             [r31, r32, r33, tz],\n",
    "                             [0, 0, 0, 1]])"
   ]
  },
  {
   "cell_type": "markdown",
   "metadata": {},
   "source": [
    "## Intrinsic camera matrix $M_C^I$\n",
    "\n",
    "$M_C^I = \\begin{bmatrix}\n",
    "f_x & 0 & c_x \\\\\n",
    "0 & f_y & c_y \\\\\n",
    "0 & 0 & 1 \\\\\n",
    "\\end{bmatrix}$"
   ]
  },
  {
   "cell_type": "code",
   "execution_count": 36,
   "metadata": {},
   "outputs": [],
   "source": [
    "cx = 636\n",
    "cy = 548\n",
    "fx = 241\n",
    "fy = 238\n",
    "\n",
    "intrinsic_camera_matrix = np.array([[fx, 0, cx],\n",
    "                                    [0, fy, cy],\n",
    "                                    [0, 0, 1]])"
   ]
  },
  {
   "cell_type": "markdown",
   "metadata": {},
   "source": [
    "## camera RS $\\rightarrow$ image RS\n",
    "\n",
    "$P^I = \\begin{bmatrix}\n",
    "su \\\\\n",
    "sv \\\\\n",
    "s\n",
    "\\end{bmatrix} = M_C^I P^C = \\begin{bmatrix}\n",
    "f_x & 0 & c_x \\\\\n",
    "0 & f_y & c_y \\\\\n",
    "0 & 0 & 1 \\\\\n",
    "\\end{bmatrix} \\begin{bmatrix}\n",
    "x_C \\\\\n",
    "y_C \\\\\n",
    "z_C\n",
    "\\end{bmatrix}$"
   ]
  },
  {
   "cell_type": "code",
   "execution_count": 37,
   "metadata": {},
   "outputs": [
    {
     "name": "stdout",
     "output_type": "stream",
     "text": [
      "u=794.9998800671625\n",
      "v=466.99867151318335\n",
      "s=2.16788\n"
     ]
    }
   ],
   "source": [
    "x_camera = 1.43026\n",
    "y_camera = -0.73782\n",
    "z_camera = 2.16788\n",
    "camera_coordinates = np.array([[x_camera], [y_camera], [z_camera]])\n",
    "\n",
    "image_coordinates_h = intrinsic_camera_matrix.dot(camera_coordinates)\n",
    "\n",
    "s = image_coordinates_h[2][0]\n",
    "u = image_coordinates_h[0][0]/s\n",
    "v = image_coordinates_h[1][0]/s\n",
    "\n",
    "print(f\"u={u}\")\n",
    "print(f\"v={v}\")\n",
    "print(f\"s={s}\")"
   ]
  },
  {
   "cell_type": "markdown",
   "metadata": {},
   "source": [
    "## image RS $\\rightarrow$ camera RS \n",
    "$P^C = \\begin{bmatrix}\n",
    "x_C \\\\\n",
    "y_C \\\\\n",
    "z_C\n",
    "\\end{bmatrix} = (M_C^I)^{-1} P^I = \\begin{bmatrix}\n",
    "\\frac{1}{f_x} & -\\frac{1}{f_xf_y} & \\frac{c_y-c_xf_y}{f_xf_y} \\\\\n",
    "0 & \\frac{1}{f_y} & -\\frac{c_y}{f_y} \\\\\n",
    "0 & 0 & 1 \\\\\n",
    "\\end{bmatrix} \\begin{bmatrix}\n",
    "su \\\\\n",
    "sv \\\\\n",
    "s\n",
    "\\end{bmatrix}$"
   ]
  },
  {
   "cell_type": "code",
   "execution_count": 38,
   "metadata": {},
   "outputs": [
    {
     "name": "stdout",
     "output_type": "stream",
     "text": [
      "x_camera=1.4302610788381744\n",
      "y_camera=-0.7378078991596629\n",
      "z_camera=2.16788\n"
     ]
    }
   ],
   "source": [
    "u = 795\n",
    "v = 467\n",
    "scaling_factor = 2.16788\n",
    "\n",
    "image_coordinates_h = np.array([[scaling_factor*u], [scaling_factor*v], [scaling_factor]])\n",
    "\n",
    "camera_coordinates = np.linalg.inv(intrinsic_camera_matrix).dot(image_coordinates_h)\n",
    "\n",
    "x_camera = camera_coordinates[0][0]\n",
    "y_camera = camera_coordinates[1][0]\n",
    "z_camera = camera_coordinates[2][0]\n",
    "\n",
    "print(f\"x_camera={x_camera}\")\n",
    "print(f\"y_camera={y_camera}\")\n",
    "print(f\"z_camera={z_camera}\")"
   ]
  },
  {
   "cell_type": "markdown",
   "metadata": {},
   "source": [
    "## world RS $\\rightarrow$ camera RS"
   ]
  },
  {
   "cell_type": "code",
   "execution_count": 39,
   "metadata": {},
   "outputs": [
    {
     "name": "stdout",
     "output_type": "stream",
     "text": [
      "x_camera=1.4300000000000004\n",
      "y_camera=-0.7377310589949362\n",
      "z_camera=2.1680431002621257\n"
     ]
    }
   ],
   "source": [
    "x_world = 2.507\n",
    "y_world = 1.590\n",
    "z_world = 0.037\n",
    "\n",
    "world_coordinates = np.array([[x_world], [y_world], [z_world]])\n",
    "world_coordinates_h = np.append(world_coordinates, 1)\n",
    "\n",
    "camera_coordinates_h = np.linalg.inv(extrinsic_matrix).dot(world_coordinates_h)\n",
    "camera_coordinates = camera_coordinates_h[:-1]\n",
    "\n",
    "\n",
    "x_camera = camera_coordinates[0]\n",
    "y_camera = camera_coordinates[1]\n",
    "z_camera = camera_coordinates[2]\n",
    "\n",
    "print(f\"x_camera={x_camera}\")\n",
    "print(f\"y_camera={y_camera}\")\n",
    "print(f\"z_camera={z_camera}\")"
   ]
  },
  {
   "cell_type": "markdown",
   "metadata": {},
   "source": [
    "## camera RS $\\rightarrow$ world RS"
   ]
  },
  {
   "cell_type": "code",
   "execution_count": 40,
   "metadata": {},
   "outputs": [
    {
     "name": "stdout",
     "output_type": "stream",
     "text": [
      "x_world = 2.506823933153891\n",
      "y_world = 1.5902599999999998\n",
      "z_world = 0.03694073227194772\n"
     ]
    }
   ],
   "source": [
    "x_camera = 1.43026\n",
    "y_camera = -0.73782\n",
    "z_camera = 2.16788\n",
    "\n",
    "camera_coordinates = np.array([[x_camera], [y_camera], [z_camera]])\n",
    "camera_coordinates_h = np.append(camera_coordinates, 1)\n",
    "\n",
    "world_coordinates_h = extrinsic_matrix.dot(camera_coordinates_h)\n",
    "world_coordinates = world_coordinates_h[:-1]\n",
    "\n",
    "x_world = world_coordinates[0]\n",
    "y_world = world_coordinates[1]\n",
    "z_world = world_coordinates[2]\n",
    "\n",
    "print(f\"x_world = {x_world}\")\n",
    "print(f\"y_world = {y_world}\")\n",
    "print(f\"z_world = {z_world}\")"
   ]
  }
 ],
 "metadata": {
  "kernelspec": {
   "display_name": "camera-quiz-venv",
   "language": "python",
   "name": "python3"
  },
  "language_info": {
   "codemirror_mode": {
    "name": "ipython",
    "version": 3
   },
   "file_extension": ".py",
   "mimetype": "text/x-python",
   "name": "python",
   "nbconvert_exporter": "python",
   "pygments_lexer": "ipython3",
   "version": "3.11.3"
  }
 },
 "nbformat": 4,
 "nbformat_minor": 2
}
